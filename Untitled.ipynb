{
 "cells": [
  {
   "cell_type": "code",
   "execution_count": 1,
   "id": "e911919d-ce63-4fd2-86b5-a642d5124f7d",
   "metadata": {},
   "outputs": [
    {
     "name": "stdout",
     "output_type": "stream",
     "text": [
      "Hello I am A boy\n"
     ]
    }
   ],
   "source": [
    "print(\"Hello I am A boy\")"
   ]
  },
  {
   "cell_type": "code",
   "execution_count": 2,
   "id": "9465324c-4b8f-4ede-9dde-53be51f1a810",
   "metadata": {},
   "outputs": [
    {
     "data": {
      "text/plain": [
       "72"
      ]
     },
     "execution_count": 2,
     "metadata": {},
     "output_type": "execute_result"
    }
   ],
   "source": [
    "36+36"
   ]
  },
  {
   "cell_type": "code",
   "execution_count": 3,
   "id": "9511f371-66b1-4a86-ac41-a34b77ac9c73",
   "metadata": {},
   "outputs": [
    {
     "name": "stdout",
     "output_type": "stream",
     "text": [
      "Alok patel\n"
     ]
    }
   ],
   "source": [
    "print(\"Alok patel\")"
   ]
  },
  {
   "cell_type": "code",
   "execution_count": 4,
   "id": "b3c48c7a-b2c5-45b4-a6a9-af58df5f6aad",
   "metadata": {},
   "outputs": [
    {
     "name": "stdout",
     "output_type": "stream",
     "text": [
      "This is working\n"
     ]
    }
   ],
   "source": [
    "print(\"This is working\")"
   ]
  },
  {
   "cell_type": "markdown",
   "id": "c617b1d5-fa36-46f7-8d52-daba1c4c18bd",
   "metadata": {},
   "source": [
    "to add the cell bellow the current cell - ESC+B\n",
    "\n",
    "TO ADD THE CELL ABOVE THE CURRENMT CELL ESC"
   ]
  },
  {
   "cell_type": "code",
   "execution_count": null,
   "id": "68b85f1c-32f7-400f-8b43-5ed1375403ba",
   "metadata": {},
   "outputs": [],
   "source": []
  },
  {
   "cell_type": "code",
   "execution_count": null,
   "id": "a86c3d6f-0b95-4120-a761-2c498c7fd13b",
   "metadata": {},
   "outputs": [],
   "source": []
  },
  {
   "cell_type": "code",
   "execution_count": null,
   "id": "59907d8f-1ef3-4ea9-9fb7-0f769eb907ab",
   "metadata": {},
   "outputs": [],
   "source": []
  },
  {
   "cell_type": "code",
   "execution_count": null,
   "id": "5fe8f9e1-63d1-4fae-a56f-295a949c7fa5",
   "metadata": {},
   "outputs": [],
   "source": []
  },
  {
   "cell_type": "code",
   "execution_count": null,
   "id": "46a994a9-e7e4-4080-9112-b82fe0517123",
   "metadata": {},
   "outputs": [],
   "source": []
  }
 ],
 "metadata": {
  "kernelspec": {
   "display_name": "Python 3 (ipykernel)",
   "language": "python",
   "name": "python3"
  },
  "language_info": {
   "codemirror_mode": {
    "name": "ipython",
    "version": 3
   },
   "file_extension": ".py",
   "mimetype": "text/x-python",
   "name": "python",
   "nbconvert_exporter": "python",
   "pygments_lexer": "ipython3",
   "version": "3.11.7"
  }
 },
 "nbformat": 4,
 "nbformat_minor": 5
}
